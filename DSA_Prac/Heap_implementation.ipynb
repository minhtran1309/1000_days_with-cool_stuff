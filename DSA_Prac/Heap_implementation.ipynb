{
 "cells": [
  {
   "cell_type": "markdown",
   "id": "a52fbe55",
   "metadata": {},
   "source": [
    "## Why reinvent the wheel when there is already heapq built-in python3?\n",
    "\n",
    "The is sustainable shortcut to growth without getting your hand dirty :D \n",
    "\n",
    "Priority Queue is just an abstract way to call a datatype, not a real data structure to implement\n",
    "\n",
    "Heap is a data structure, a way to store the data makes a certain operation easier. (so specialized that I barely see it in any of my real life experience. In fact in one of my course about discrete math, I learned about Dijkstra's algorithm and prim, it could have been introduced. But lecturer didn't mention about the implementation of heap at all. "
   ]
  },
  {
   "cell_type": "markdown",
   "id": "c3b12bb0",
   "metadata": {},
   "source": [
    "### In term of Visualization, heap looks like binary tree. \n",
    "The key difference is that:\n",
    "    \n",
    "    - In BST left node is less than parent node, and right node is greater than parent node. \n",
    "    \n",
    "    - In heap, the value of children nodes are less/greater than parent node. Root node is the smallest/biggest among all the other nodes of the tree\n",
    "    \n",
    "### Applicaion of Heap\n",
    "Max-heap or Min-heap is useful while working Dijkstra's algorithm, prim algorithm, on the operating system for job scheduling algorithm and order statistics. \n",
    "\n",
    "To build a heap it costs: `O(n*log(n))` breakdown into call for heapify costs `O(log(n))` and cost of building heap (heappush, heappop) is `O(n)`. \n",
    "\n",
    "Therefore: insert and delete cost: `O(log(n))`\n",
    "\n",
    "\n",
    "\n",
    "for min-heap finding min O(1) and same thing for finding max in max heap\n",
    "\n"
   ]
  },
  {
   "cell_type": "markdown",
   "id": "1c5f9091",
   "metadata": {},
   "source": [
    "### Min Heap in Python\n",
    "\n",
    "(from GeaksforGeeks and Wiki)"
   ]
  },
  {
   "attachments": {
    "heap_tree_and_array_representation.png": {
     "image/png": "[encoded data removed]"
    }
   },
   "cell_type": "markdown",
   "id": "77551e5f",
   "metadata": {},
   "source": [
    "The illustration is max heap\n",
    "\n",
    "![heap_tree_and_array_representation.png](attachment:heap_tree_and_array_representation.png)"
   ]
  },
  {
   "cell_type": "markdown",
   "id": "9f0322f2",
   "metadata": {},
   "source": [
    "Abeit a heap can be visualized as a tree, it can also store inform of array with the root start at `Arr[0]` for any ith node: \n",
    "\n",
    "`Arr[(i-1)//2]` returns its parent node <br />\n",
    "`Arr[(2*i)+1]` returns left child node <br />\n",
    "`Arr[(2*i)+2]` returns right child node <br />\n",
    "\n",
    "There are only three crucial function for heap (the use of its is more important: `heapify()` , `heappush(element)`, `heappop()` "
   ]
  },
  {
   "cell_type": "code",
   "execution_count": 9,
   "id": "cced87a0",
   "metadata": {},
   "outputs": [],
   "source": [
    "import sys\n",
    "\n",
    "class MinHeap:\n",
    "    \n",
    "    def __init__(self, maxsize):\n",
    "        self.maxsize = maxsize\n",
    "        self.size = 0\n",
    "        # the core heap is an array with specialized indexing methods\n",
    "        self.Heap = [0] * (self.maxsize +1)\n",
    "        # set to something very small\n",
    "        self.Heap[0] = -1 * sys.maxsize\n",
    "        self.root = 1\n",
    "        \n",
    "    def __repr__(self) -> str:\n",
    "        description = f'MinHeap object with'\n",
    "        for attribute in ['maxsize', 'size', 'root','Heap']:\n",
    "            if hasattr(self, attribute):\n",
    "                description += f'\\n {attribute}: {getattr(self, attribute)}'\n",
    "        return description\n",
    "    \n",
    "    def parent(self, pos):\n",
    "        return pos//2\n",
    "    \n",
    "    def get_left_child_index(self, pos):\n",
    "        return 2*pos\n",
    "    \n",
    "    def get_right_child_index(self, pos):\n",
    "        return (2*pos) + 1\n",
    "    \n",
    "    # support function to identify if the current position is not a leaf node\n",
    "    def is_leaf(self, pos):\n",
    "        if pos >= (self.size//2) and pos <= self.size:\n",
    "            return True\n",
    "        return False\n",
    "    \n",
    "    def swapnodes(self, node1, node2):\n",
    "        self.Heap[node1], self.Heap[node2] = self.Heap[node2], self.Heap[node1]   \n",
    "        \n",
    "    # function to heapify the node at pos    \n",
    "    def heapify(self, pos):\n",
    "        # if the node is a non-leaf node and greater\n",
    "        if not self.is_leaf(pos):\n",
    "            if (self.Heap[pos] > self.Heap[self.get_left_child_index(pos)] or\n",
    "            self.Heap[pos] > self.Heap[self.get_right_child_index(pos)]):\n",
    "                # Swap with the left child and heapify\n",
    "                # the left child\n",
    "                if self.Heap[self.get_left_child_index(pos)] < self.Heap[self.get_right_child_index(pos)]:\n",
    "                    self.swapnodes(pos, self.get_left_child_index(pos) )\n",
    "                    # keep going down to the list recursively\n",
    "                    self.heapify(self.get_left_child_index(pos))\n",
    "                # Swap with the right child and heapify\n",
    "                # the right child\n",
    "                else:\n",
    "                    self.swapnodes(pos, self.get_right_child_index(pos))\n",
    "                    self.heapify(self.get_right_child_index(pos))\n",
    "                \n",
    "    # Heap push function\n",
    "    def heappush(self, element):\n",
    "        if self.size >= self.maxsize :\n",
    "            return\n",
    "        self.size+= 1\n",
    "        self.Heap[self.size] = element\n",
    " \n",
    "        current = self.size\n",
    " \n",
    "        while self.Heap[current] < self.Heap[self.parent(current)]:\n",
    "            self.swapnodes(current, self.parent(current))\n",
    "            current = self.parent(current)\n",
    "                \n",
    "    # Heap pop function\n",
    "    def heappop(self):\n",
    "        popped = self.Heap[self.root]\n",
    "        self.Heap[self.root] = self.Heap[self.size]\n",
    "        self.size -= 1\n",
    "        self.heapify(self.root)\n",
    "        return popped\n",
    "    \n",
    "    def build_heap(self):\n",
    "        for pos in range(self.size//2, 0, -1):\n",
    "            self.heapify(pos)\n",
    "    \n",
    "    # that's from GeeksforGeeks but I don't think it's enough\n",
    "        "
   ]
  },
  {
   "cell_type": "code",
   "execution_count": 10,
   "id": "568ddb6e",
   "metadata": {},
   "outputs": [
    {
     "name": "stdout",
     "output_type": "stream",
     "text": [
      "The minHeap is \n"
     ]
    }
   ],
   "source": [
    "print('The minHeap is ')"
   ]
  },
  {
   "cell_type": "code",
   "execution_count": 16,
   "id": "ef9e269c",
   "metadata": {},
   "outputs": [
    {
     "name": "stdout",
     "output_type": "stream",
     "text": [
      "init MinHeap object with\n",
      " maxsize: 15\n",
      " size: 0\n",
      " root: 1\n",
      " Heap: [-9223372036854775807, 0, 0, 0, 0, 0, 0, 0, 0, 0, 0, 0, 0, 0, 0, 0]\n",
      "MinHeap object with\n",
      " maxsize: 15\n",
      " size: 1\n",
      " root: 1\n",
      " Heap: [-9223372036854775807, 5, 0, 0, 0, 0, 0, 0, 0, 0, 0, 0, 0, 0, 0, 0]\n",
      "MinHeap object with\n",
      " maxsize: 15\n",
      " size: 2\n",
      " root: 1\n",
      " Heap: [-9223372036854775807, 3, 5, 0, 0, 0, 0, 0, 0, 0, 0, 0, 0, 0, 0, 0]\n",
      "MinHeap object with\n",
      " maxsize: 15\n",
      " size: 3\n",
      " root: 1\n",
      " Heap: [-9223372036854775807, 3, 5, 17, 0, 0, 0, 0, 0, 0, 0, 0, 0, 0, 0, 0]\n",
      "MinHeap object with\n",
      " maxsize: 15\n",
      " size: 4\n",
      " root: 1\n",
      " Heap: [-9223372036854775807, 3, 5, 17, 10, 0, 0, 0, 0, 0, 0, 0, 0, 0, 0, 0]\n",
      "MinHeap object with\n",
      " maxsize: 15\n",
      " size: 5\n",
      " root: 1\n",
      " Heap: [-9223372036854775807, 3, 5, 17, 10, 84, 0, 0, 0, 0, 0, 0, 0, 0, 0, 0]\n",
      "MinHeap object with\n",
      " maxsize: 15\n",
      " size: 6\n",
      " root: 1\n",
      " Heap: [-9223372036854775807, 3, 5, 17, 10, 84, 19, 0, 0, 0, 0, 0, 0, 0, 0, 0]\n",
      "MinHeap object with\n",
      " maxsize: 15\n",
      " size: 7\n",
      " root: 1\n",
      " Heap: [-9223372036854775807, 3, 5, 6, 10, 84, 19, 17, 0, 0, 0, 0, 0, 0, 0, 0]\n",
      "MinHeap object with\n",
      " maxsize: 15\n",
      " size: 8\n",
      " root: 1\n",
      " Heap: [-9223372036854775807, 3, 5, 6, 10, 84, 19, 17, 22, 0, 0, 0, 0, 0, 0, 0]\n",
      "MinHeap object with\n",
      " maxsize: 15\n",
      " size: 9\n",
      " root: 1\n",
      " Heap: [-9223372036854775807, 3, 5, 6, 9, 84, 19, 17, 22, 10, 0, 0, 0, 0, 0, 0]\n"
     ]
    }
   ],
   "source": [
    "minHeap = MinHeap(15)\n",
    "\n",
    "print('init',minHeap)\n",
    "for value in [5,3,17,10,84,19, 6,22,9]:\n",
    "    minHeap.heappush(value)\n",
    "    print(minHeap)\n",
    "# that is heap already"
   ]
  },
  {
   "cell_type": "code",
   "execution_count": 15,
   "id": "d0e40cf8",
   "metadata": {},
   "outputs": [
    {
     "data": {
      "text/plain": [
       "MinHeap object with\n",
       " maxsize: 15\n",
       " size: 9\n",
       " root: 1\n",
       " Heap: [-9223372036854775807, 3, 5, 6, 9, 84, 19, 17, 22, 10, 0, 0, 0, 0, 0, 0]"
      ]
     },
     "execution_count": 15,
     "metadata": {},
     "output_type": "execute_result"
    }
   ],
   "source": [
    "minHeap.build_heap()\n",
    "minHeap"
   ]
  },
  {
   "cell_type": "code",
   "execution_count": 17,
   "id": "658d5e37",
   "metadata": {},
   "outputs": [
    {
     "name": "stdout",
     "output_type": "stream",
     "text": [
      "3\n"
     ]
    }
   ],
   "source": [
    "print(minHeap.heappop())"
   ]
  },
  {
   "cell_type": "code",
   "execution_count": null,
   "id": "c9eb8fa5",
   "metadata": {},
   "outputs": [],
   "source": []
  },
  {
   "cell_type": "code",
   "execution_count": null,
   "id": "0dad3b6b",
   "metadata": {},
   "outputs": [],
   "source": [
    "input_list = [0,9,1,5,2,5,6,2,11,4,3,5,7]\n"
   ]
  },
  {
   "cell_type": "code",
   "execution_count": null,
   "id": "05e3a42b",
   "metadata": {},
   "outputs": [],
   "source": []
  },
  {
   "cell_type": "code",
   "execution_count": null,
   "id": "b5e682b5",
   "metadata": {},
   "outputs": [],
   "source": []
  },
  {
   "cell_type": "code",
   "execution_count": null,
   "id": "d2b58070",
   "metadata": {},
   "outputs": [],
   "source": []
  }
 ],
 "metadata": {
  "kernelspec": {
   "display_name": "Python 3 (ipykernel)",
   "language": "python",
   "name": "python3"
  },
  "language_info": {
   "codemirror_mode": {
    "name": "ipython",
    "version": 3
   },
   "file_extension": ".py",
   "mimetype": "text/x-python",
   "name": "python",
   "nbconvert_exporter": "python",
   "pygments_lexer": "ipython3",
   "version": "3.8.8"
  }
 },
 "nbformat": 4,
 "nbformat_minor": 5
}
